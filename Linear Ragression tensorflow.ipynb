{
 "cells": [
  {
   "cell_type": "code",
   "execution_count": 4,
   "metadata": {
    "scrolled": true
   },
   "outputs": [],
   "source": [
    "# import statements (importing important packages)\n",
    "import tensorflow as tf \n",
    "import numpy as np\n",
    "import pandas as pd\n",
    "import matplotlib.pyplot as plt"
   ]
  },
  {
   "cell_type": "code",
   "execution_count": 5,
   "metadata": {},
   "outputs": [],
   "source": [
    "# Genrating random linear data \n",
    "# There will be 50 data points ranging from 0 to 50 \n",
    "x = np.linspace(0, 100, 200) \n",
    "y = np.linspace(0, 100, 200) \n",
    "\n",
    "# Adding noise to the random linear data \n",
    "x += np.random.uniform(-4, 4, 200) \n",
    "y += np.random.uniform(-16, 16, 200) \n",
    "\n",
    "n = len(x) # Number of data points \n",
    "\n"
   ]
  },
  {
   "cell_type": "code",
   "execution_count": 6,
   "metadata": {},
   "outputs": [
    {
     "data": {
      "image/png": "[encoded data removed]",
      "text/plain": [
       "<Figure size 432x288 with 1 Axes>"
      ]
     },
     "metadata": {
      "needs_background": "light"
     },
     "output_type": "display_data"
    }
   ],
   "source": [
    "# Plot of Training Data \n",
    "plt.scatter(x, y) \n",
    "plt.xlabel('x') \n",
    "plt.xlabel('y') \n",
    "plt.title(\"Training Data\") \n",
    "plt.show() \n"
   ]
  },
  {
   "cell_type": "code",
   "execution_count": 7,
   "metadata": {},
   "outputs": [],
   "source": [
    "# Taking X and Y as placeholders for training data\n",
    "\n",
    "X = tf.placeholder(\"float\") \n",
    "Y = tf.placeholder(\"float\") \n"
   ]
  },
  {
   "cell_type": "code",
   "execution_count": 8,
   "metadata": {},
   "outputs": [],
   "source": [
    "# w is for weight and b is for bias\n",
    "\n",
    "W = tf.Variable(np.random.randn(), name = \"W\") \n",
    "b = tf.Variable(np.random.randn(), name = \"b\") \n"
   ]
  },
  {
   "cell_type": "code",
   "execution_count": 9,
   "metadata": {},
   "outputs": [],
   "source": [
    "# initializing values for learning rate and defining number of epochs to be run\n",
    "\n",
    "learning_rate = 0.01\n",
    "training_epochs = 1000\n"
   ]
  },
  {
   "cell_type": "code",
   "execution_count": 10,
   "metadata": {},
   "outputs": [],
   "source": [
    "# predicting value for X as per weight 'w' and bias 'b'\n",
    "y_pred = tf.add(tf.multiply(X, W), b) \n",
    "\n",
    "# Mean Squared Error Cost Function ( calculating cost) \n",
    "cost = tf.reduce_sum(tf.pow(y_pred-Y, 2)) / (2 * n) \n",
    "\n",
    "# Gradient Descent Optimizer (optimizing weight and bias to best fit the dataset)\n",
    "optimizer = tf.train.GradientDescentOptimizer(learning_rate).minimize(cost) \n",
    "\n",
    "# Global Variables Initializer (to initialize the global variables all together)\n",
    "init = tf.global_variables_initializer() \n"
   ]
  },
  {
   "cell_type": "code",
   "execution_count": 11,
   "metadata": {},
   "outputs": [
    {
     "name": "stdout",
     "output_type": "stream",
     "text": [
      "Epoch 50 : cost = 56.033745 W = 0.88089824 b = 2.2113626\n",
      "Epoch 100 : cost = 56.012993 W = 0.88054955 b = 2.2459536\n",
      "Epoch 150 : cost = 55.99412 W = 0.8802268 b = 2.2779737\n",
      "Epoch 200 : cost = 55.976967 W = 0.8799282 b = 2.3075984\n",
      "Epoch 250 : cost = 55.96135 W = 0.87965184 b = 2.3350172\n",
      "Epoch 300 : cost = 55.94716 W = 0.8793967 b = 2.360326\n",
      "Epoch 350 : cost = 55.93422 W = 0.8791607 b = 2.3837388\n",
      "Epoch 400 : cost = 55.92241 W = 0.8789427 b = 2.4053626\n",
      "Epoch 450 : cost = 55.91164 W = 0.8787407 b = 2.4253967\n",
      "Epoch 500 : cost = 55.90174 W = 0.8785534 b = 2.4439886\n",
      "Epoch 550 : cost = 55.892685 W = 0.87838006 b = 2.4611819\n",
      "Epoch 600 : cost = 55.884422 W = 0.87822026 b = 2.4770386\n",
      "Epoch 650 : cost = 55.876873 W = 0.87807286 b = 2.4916623\n",
      "Epoch 700 : cost = 55.869934 W = 0.8779359 b = 2.505246\n",
      "Epoch 750 : cost = 55.863594 W = 0.8778096 b = 2.5177784\n",
      "Epoch 800 : cost = 55.857788 W = 0.8776933 b = 2.5293148\n",
      "Epoch 850 : cost = 55.85246 W = 0.8775859 b = 2.5399737\n",
      "Epoch 900 : cost = 55.847576 W = 0.87748617 b = 2.549858\n",
      "Epoch 950 : cost = 55.84304 W = 0.87739396 b = 2.5590131\n",
      "Epoch 1000 : cost = 55.838913 W = 0.8773091 b = 2.5674326\n"
     ]
    }
   ],
   "source": [
    "# Starting the Tensorflow Session \n",
    "with tf.Session() as sess: \n",
    "\n",
    "    # Initializing the Variables \n",
    "    sess.run(init) \n",
    "\n",
    "    # Iterating through all the epochs \n",
    "    for epoch in range(training_epochs): \n",
    "\n",
    "        # Feeding each data point into the optimizer using Feed Dictionary \n",
    "        for (_x, _y) in zip(x, y): \n",
    "            sess.run(optimizer, feed_dict = {X : _x, Y : _y}) \n",
    "\n",
    "        # Displaying the result after every 50 epochs \n",
    "        if (epoch + 1) % 50 == 0: \n",
    "            # Calculating the cost a every epoch \n",
    "            c = sess.run(cost, feed_dict = {X : x, Y : y}) \n",
    "            print(\"Epoch\", (epoch + 1), \": cost =\", c, \"W =\", sess.run(W), \"b =\", sess.run(b)) \n",
    "\n",
    "    # Storing necessary values to be used outside the Session \n",
    "    training_cost = sess.run(cost, feed_dict ={X: x, Y: y}) \n",
    "    weight = sess.run(W) \n",
    "    bias = sess.run(b) \n"
   ]
  },
  {
   "cell_type": "code",
   "execution_count": 13,
   "metadata": {},
   "outputs": [
    {
     "name": "stdout",
     "output_type": "stream",
     "text": [
      "Training cost = 55.838913 Weight = 0.8773091 bias = 2.5674326 \n",
      "\n"
     ]
    }
   ],
   "source": [
    "# Calculating the predictions \n",
    "predictions = weight * x + bias \n",
    "print(\"Training cost =\", training_cost, \"Weight =\", weight, \"bias =\", bias, '\\n') \n"
   ]
  },
  {
   "cell_type": "code",
   "execution_count": 14,
   "metadata": {
    "scrolled": true
   },
   "outputs": [
    {
     "data": {
      "image/png": "[encoded data removed]",
      "text/plain": [
       "<Figure size 432x288 with 1 Axes>"
      ]
     },
     "metadata": {
      "needs_background": "light"
     },
     "output_type": "display_data"
    }
   ],
   "source": [
    "# Plotting the Results \n",
    "plt.plot(x, y,'ro', label ='Original data') \n",
    "plt.plot(x, predictions, label ='Fitted line') \n",
    "plt.title('Linear Regression Result') \n",
    "plt.legend() \n",
    "plt.show() \n"
   ]
  }
 ],
 "metadata": {
  "kernelspec": {
   "display_name": "Python 3",
   "language": "python",
   "name": "python3"
  },
  "language_info": {
   "codemirror_mode": {
    "name": "ipython",
    "version": 3
   },
   "file_extension": ".py",
   "mimetype": "text/x-python",
   "name": "python",
   "nbconvert_exporter": "python",
   "pygments_lexer": "ipython3",
   "version": "3.6.7"
  }
 },
 "nbformat": 4,
 "nbformat_minor": 2
}
